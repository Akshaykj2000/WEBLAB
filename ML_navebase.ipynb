{
  "nbformat": 4,
  "nbformat_minor": 0,
  "metadata": {
    "colab": {
      "provenance": [],
      "authorship_tag": "ABX9TyNPSSXS3F3x7cK9Xlq7wqBS",
      "include_colab_link": true
    },
    "kernelspec": {
      "name": "python3",
      "display_name": "Python 3"
    },
    "language_info": {
      "name": "python"
    }
  },
  "cells": [
    {
      "cell_type": "markdown",
      "metadata": {
        "id": "view-in-github",
        "colab_type": "text"
      },
      "source": [
        "<a href=\"https://colab.research.google.com/github/Akshaykj2000/WEBLAB/blob/main/ML_navebase.ipynb\" target=\"_parent\"><img src=\"https://colab.research.google.com/assets/colab-badge.svg\" alt=\"Open In Colab\"/></a>"
      ]
    },
    {
      "cell_type": "code",
      "execution_count": 2,
      "metadata": {
        "colab": {
          "base_uri": "https://localhost:8080/"
        },
        "id": "Gcr4YIZsLA8E",
        "outputId": "b438e278-6458-4293-a8d9-869756a64034"
      },
      "outputs": [
        {
          "output_type": "stream",
          "name": "stdout",
          "text": [
            "     sl   sw   pl   pw  species\n",
            "0   5.1  3.5  1.4  0.2        0\n",
            "1   4.9  3.0  1.4  0.2        0\n",
            "2   4.7  3.2  1.3  0.2        0\n",
            "3   4.6  3.1  1.5  0.2        0\n",
            "4   5.0  3.6  1.4  0.2        0\n",
            "..  ...  ...  ...  ...      ...\n",
            "95  5.7  3.0  4.2  1.2        1\n",
            "96  5.7  2.9  4.2  1.3        1\n",
            "97  6.2  2.9  4.3  1.3        1\n",
            "98  5.1  2.5  3.0  1.1        1\n",
            "99  5.7  2.8  4.1  1.3        1\n",
            "\n",
            "[100 rows x 5 columns]\n"
          ]
        }
      ],
      "source": [
        "from sklearn import datasets\n",
        "from sklearn import metrics\n",
        "from sklearn import preprocessing\n",
        "import pandas as pd\n",
        "from sklearn.naive_bayes import GaussianNB\n",
        "from sklearn.model_selection import train_test_split as tts\n",
        "iris = datasets.load_iris()\n",
        "#rename the columns\n",
        "data = pd.DataFrame({\"sl\":iris.data[:,0], \"sw\":iris.data[:,1], \"pl\":iris.data[:,2], \"pw\":iris.data[:,3], 'species': iris.target})\n",
        "print(data.head(100))"
      ]
    },
    {
      "cell_type": "code",
      "source": [
        "x=data[['sl','sw','pl','pw']]\n",
        "y=data[\"species\"]\n",
        "X_train, X_test, y_train, y_test = tts(x,y, test_size=30/100, random_state=None)"
      ],
      "metadata": {
        "id": "iHcnr1icO0ig"
      },
      "execution_count": 3,
      "outputs": []
    },
    {
      "cell_type": "code",
      "source": [
        "GNB = GaussianNB()\n",
        "GNB.fit(X_train, y_train)\n",
        "y_pr = GNB.predict(X_test)\n",
        "\n",
        "print(y_pr)\n",
        "\n",
        "print(\"Acc %:\",metrics.accuracy_score(y_test, y_pr)*100)"
      ],
      "metadata": {
        "colab": {
          "base_uri": "https://localhost:8080/"
        },
        "id": "NKNTMF8AO4my",
        "outputId": "5daa9af5-2e8d-4908-d9c6-cf4c5dd3ea23"
      },
      "execution_count": 11,
      "outputs": [
        {
          "output_type": "stream",
          "name": "stdout",
          "text": [
            "[0 1 0 1 2 2 2 0 2 1 0 1 0 0 0 0 1 0 2 2 2 0 2 2 1 2 2 1 2 0 2 2 1 1 0 1 0\n",
            " 0 1 1 0 0 1 2 2]\n",
            "Acc %: 95.55555555555556\n"
          ]
        }
      ]
    },
    {
      "cell_type": "code",
      "source": [
        "print(GNB.predict([[5.7,2.8,4.1,1.3]]))"
      ],
      "metadata": {
        "colab": {
          "base_uri": "https://localhost:8080/"
        },
        "id": "_9vNGKj5PBap",
        "outputId": "b8f8ee3b-8bd2-4a54-cd77-ab80ce5380aa"
      },
      "execution_count": 6,
      "outputs": [
        {
          "output_type": "stream",
          "name": "stdout",
          "text": [
            "[1]\n"
          ]
        },
        {
          "output_type": "stream",
          "name": "stderr",
          "text": [
            "/usr/local/lib/python3.10/dist-packages/sklearn/base.py:439: UserWarning: X does not have valid feature names, but GaussianNB was fitted with feature names\n",
            "  warnings.warn(\n"
          ]
        }
      ]
    }
  ]
}